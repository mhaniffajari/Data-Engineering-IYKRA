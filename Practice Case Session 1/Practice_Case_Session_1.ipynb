{
 "cells": [
  {
   "cell_type": "markdown",
   "id": "0394e4db",
   "metadata": {},
   "source": [
    "Create a python script which can upload a file from the internet to Google Cloud Storage (Bonus point if\n",
    "you use Docker)"
   ]
  },
  {
   "cell_type": "code",
   "execution_count": 1,
   "id": "7b989281",
   "metadata": {},
   "outputs": [],
   "source": [
    "\n",
    "from google.cloud import storage\n",
    "\n",
    "\n",
    "def authenticate_implicit_with_adc(project_id=\"your-google-cloud-project-id\"):\n",
    "    \"\"\"\n",
    "    When interacting with Google Cloud Client libraries, the library can auto-detect the\n",
    "    credentials to use.\n",
    "\n",
    "    // TODO(Developer):\n",
    "    //  1. Before running this sample,\n",
    "    //  set up ADC as described in https://cloud.google.com/docs/authentication/external/set-up-adc\n",
    "    //  2. Replace the project variable.\n",
    "    //  3. Make sure that the user account or service account that you are using\n",
    "    //  has the required permissions. For this sample, you must have \"storage.buckets.list\".\n",
    "    Args:\n",
    "        project_id: The project id of your Google Cloud project.\n",
    "    \"\"\"\n",
    "\n",
    "    # This snippet demonstrates how to list buckets.\n",
    "    # *NOTE*: Replace the client created below with the client required for your application.\n",
    "    # Note that the credentials are not specified when constructing the client.\n",
    "    # Hence, the client library will look for credentials using ADC.\n",
    "    storage_client = storage.Client(project=project_id)\n",
    "    buckets = storage_client.list_buckets()\n",
    "    print(\"Buckets:\")\n",
    "    for bucket in buckets:\n",
    "        print(bucket.name)\n",
    "    print(\"Listed all storage buckets.\")"
   ]
  },
  {
   "cell_type": "code",
   "execution_count": 2,
   "id": "022c14fb",
   "metadata": {
    "scrolled": true
   },
   "outputs": [
    {
     "name": "stdout",
     "output_type": "stream",
     "text": [
      "Buckets:\n",
      "fellowship-777\n",
      "fellowship-7777\n",
      "Listed all storage buckets.\n"
     ]
    }
   ],
   "source": [
    "authenticate_implicit_with_adc(project_id=\"clever-seat-363006\")"
   ]
  },
  {
   "cell_type": "code",
   "execution_count": 3,
   "id": "548accb2",
   "metadata": {},
   "outputs": [],
   "source": [
    "from google.cloud import storage\n",
    "import os\n",
    "\n",
    "def upload_blob_from_memory(bucket_name, contents, destination_blob_name):\n",
    "    \"\"\"Uploads a file to the bucket.\"\"\"\n",
    "\n",
    "    # The ID of your GCS bucket\n",
    "    # bucket_name = \"your-bucket-name\"\n",
    "\n",
    "    # The contents to upload to the file\n",
    "    # contents = \"these are my contents\"\n",
    "\n",
    "    # The ID of your GCS object\n",
    "    # destination_blob_name = \"storage-object-name\"\n",
    "\n",
    "    storage_client = storage.Client(project=\"clever-seat-363006\")\n",
    "    bucket = storage_client.bucket(bucket_name)\n",
    "    blob = bucket.blob(destination_blob_name)\n",
    "\n",
    "    blob.upload_from_string(contents)\n",
    "\n",
    "    print(\n",
    "        f\"{destination_blob_name} with contents {contents} uploaded to {bucket_name}.\"\n",
    "    )"
   ]
  },
  {
   "cell_type": "code",
   "execution_count": 4,
   "id": "e5ef2723",
   "metadata": {},
   "outputs": [],
   "source": [
    "file_path = 'https://codelabs.developers.google.com/static/codelabs/cloud-compute-engine/img/5bcdca7120f6201a.png?hl=id'"
   ]
  },
  {
   "cell_type": "code",
   "execution_count": 5,
   "id": "777969f2",
   "metadata": {},
   "outputs": [
    {
     "name": "stdout",
     "output_type": "stream",
     "text": [
      "gcp.jpeg with contents https://codelabs.developers.google.com/static/codelabs/cloud-compute-engine/img/5bcdca7120f6201a.png?hl=id uploaded to fellowship-777.\n"
     ]
    }
   ],
   "source": [
    "upload_blob_from_memory('fellowship-777',file_path, 'gcp.jpeg')"
   ]
  }
 ],
 "metadata": {
  "kernelspec": {
   "display_name": "Python 3 (ipykernel)",
   "language": "python",
   "name": "python3"
  },
  "language_info": {
   "codemirror_mode": {
    "name": "ipython",
    "version": 3
   },
   "file_extension": ".py",
   "mimetype": "text/x-python",
   "name": "python",
   "nbconvert_exporter": "python",
   "pygments_lexer": "ipython3",
   "version": "3.9.12"
  }
 },
 "nbformat": 4,
 "nbformat_minor": 5
}
