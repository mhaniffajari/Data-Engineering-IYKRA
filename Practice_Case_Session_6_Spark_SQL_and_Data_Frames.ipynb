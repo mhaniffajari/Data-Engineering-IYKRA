{
  "nbformat": 4,
  "nbformat_minor": 0,
  "metadata": {
    "colab": {
      "provenance": [],
      "authorship_tag": "ABX9TyN0sc+aBScEb10/aoJZhHoF",
      "include_colab_link": true
    },
    "kernelspec": {
      "name": "python3",
      "display_name": "Python 3"
    },
    "language_info": {
      "name": "python"
    }
  },
  "cells": [
    {
      "cell_type": "markdown",
      "metadata": {
        "id": "view-in-github",
        "colab_type": "text"
      },
      "source": [
        "<a href=\"https://colab.research.google.com/github/mhaniffajari/Data-Engineering-IYKRA/blob/main/Practice_Case_Session_6_Spark_SQL_and_Data_Frames.ipynb\" target=\"_parent\"><img src=\"https://colab.research.google.com/assets/colab-badge.svg\" alt=\"Open In Colab\"/></a>"
      ]
    },
    {
      "cell_type": "markdown",
      "source": [
        "# Preparation Installation Pyspark"
      ],
      "metadata": {
        "id": "9TR_bPaUAP0H"
      }
    },
    {
      "cell_type": "code",
      "execution_count": 1,
      "metadata": {
        "colab": {
          "base_uri": "https://localhost:8080/"
        },
        "id": "03JxiFa6AJ-q",
        "outputId": "7bea2cef-3f5d-4238-9899-be526463e9ab"
      },
      "outputs": [
        {
          "output_type": "stream",
          "name": "stdout",
          "text": [
            "Mounted at /content/drive\n"
          ]
        }
      ],
      "source": [
        "from google.colab import drive\n",
        "drive.mount('/content/drive')"
      ]
    },
    {
      "cell_type": "code",
      "source": [
        "!apt-get install openjdk-8-jdk-headless -qq > /dev/null"
      ],
      "metadata": {
        "id": "0IYHsb0qAUZr"
      },
      "execution_count": 2,
      "outputs": []
    },
    {
      "cell_type": "code",
      "source": [
        "!wget -q https://archive.apache.org/dist/spark/spark-3.0.0/spark-3.0.0-bin-hadoop3.2.tgz\n",
        "!tar xf spark-3.0.0-bin-hadoop3.2.tgz"
      ],
      "metadata": {
        "id": "a3BrckUpAWUU"
      },
      "execution_count": 3,
      "outputs": []
    },
    {
      "cell_type": "code",
      "source": [
        "!pip install -q findspark"
      ],
      "metadata": {
        "id": "xJjr6iE8Aj_K"
      },
      "execution_count": 4,
      "outputs": []
    },
    {
      "cell_type": "code",
      "source": [
        "import os\n",
        "os.environ[\"JAVA_HOME\"] = \"/usr/lib/jvm/java-8-openjdk-amd64\"\n",
        "os.environ[\"SPARK_HOME\"] = \"/content/spark-3.0.0-bin-hadoop3.2\""
      ],
      "metadata": {
        "id": "A4b2QcmLEezP"
      },
      "execution_count": 5,
      "outputs": []
    },
    {
      "cell_type": "code",
      "source": [
        "import findspark\n",
        "findspark.init()"
      ],
      "metadata": {
        "id": "rX-iF4R9EhDz"
      },
      "execution_count": 6,
      "outputs": []
    },
    {
      "cell_type": "code",
      "source": [
        "findspark.find()"
      ],
      "metadata": {
        "colab": {
          "base_uri": "https://localhost:8080/",
          "height": 36
        },
        "id": "kIRyq3NiFq8W",
        "outputId": "13e527a5-37bc-4ab2-9f99-f1296d1c251c"
      },
      "execution_count": 7,
      "outputs": [
        {
          "output_type": "execute_result",
          "data": {
            "text/plain": [
              "'/content/spark-3.0.0-bin-hadoop3.2'"
            ],
            "application/vnd.google.colaboratory.intrinsic+json": {
              "type": "string"
            }
          },
          "metadata": {},
          "execution_count": 7
        }
      ]
    },
    {
      "cell_type": "code",
      "source": [
        "from pyspark.sql import SparkSession\n",
        "\n",
        "spark = SparkSession.builder\\\n",
        "        .master(\"local\")\\\n",
        "        .appName(\"Colab\")\\\n",
        "        .config('spark.ui.port', '4050')\\\n",
        "        .getOrCreate()"
      ],
      "metadata": {
        "id": "NJzmwJaUFwAu"
      },
      "execution_count": 8,
      "outputs": []
    },
    {
      "cell_type": "code",
      "source": [
        "spark"
      ],
      "metadata": {
        "colab": {
          "base_uri": "https://localhost:8080/",
          "height": 219
        },
        "id": "XLsN6yL9GaxH",
        "outputId": "f5b5abaa-17bf-44dd-a28e-7f25b3cb6721"
      },
      "execution_count": 9,
      "outputs": [
        {
          "output_type": "execute_result",
          "data": {
            "text/plain": [
              "<pyspark.sql.session.SparkSession at 0x7fb6861ae590>"
            ],
            "text/html": [
              "\n",
              "            <div>\n",
              "                <p><b>SparkSession - in-memory</b></p>\n",
              "                \n",
              "        <div>\n",
              "            <p><b>SparkContext</b></p>\n",
              "\n",
              "            <p><a href=\"http://b9a1ad5b27e4:4050\">Spark UI</a></p>\n",
              "\n",
              "            <dl>\n",
              "              <dt>Version</dt>\n",
              "                <dd><code>v3.0.0</code></dd>\n",
              "              <dt>Master</dt>\n",
              "                <dd><code>local</code></dd>\n",
              "              <dt>AppName</dt>\n",
              "                <dd><code>Colab</code></dd>\n",
              "            </dl>\n",
              "        </div>\n",
              "        \n",
              "            </div>\n",
              "        "
            ]
          },
          "metadata": {},
          "execution_count": 9
        }
      ]
    },
    {
      "cell_type": "markdown",
      "source": [
        "# Data Preparation"
      ],
      "metadata": {
        "id": "9nGnyoy7GkDa"
      }
    },
    {
      "cell_type": "code",
      "source": [
        "!wget https://d37ci6vzurychx.cloudfront.net/trip-data/yellow_tripdata_2021-02.parquet"
      ],
      "metadata": {
        "colab": {
          "base_uri": "https://localhost:8080/"
        },
        "id": "MR-qQenjITXe",
        "outputId": "c88f5547-4ab0-4650-d781-5577dd7ef2a1"
      },
      "execution_count": 10,
      "outputs": [
        {
          "output_type": "stream",
          "name": "stdout",
          "text": [
            "--2022-10-03 01:48:22--  https://d37ci6vzurychx.cloudfront.net/trip-data/yellow_tripdata_2021-02.parquet\n",
            "Resolving d37ci6vzurychx.cloudfront.net (d37ci6vzurychx.cloudfront.net)... 65.8.245.171, 65.8.245.178, 65.8.245.51, ...\n",
            "Connecting to d37ci6vzurychx.cloudfront.net (d37ci6vzurychx.cloudfront.net)|65.8.245.171|:443... connected.\n",
            "HTTP request sent, awaiting response... 200 OK\n",
            "Length: 21777258 (21M) [application/x-www-form-urlencoded]\n",
            "Saving to: ‘yellow_tripdata_2021-02.parquet’\n",
            "\n",
            "yellow_tripdata_202 100%[===================>]  20.77M  57.3MB/s    in 0.4s    \n",
            "\n",
            "2022-10-03 01:48:23 (57.3 MB/s) - ‘yellow_tripdata_2021-02.parquet’ saved [21777258/21777258]\n",
            "\n"
          ]
        }
      ]
    },
    {
      "cell_type": "code",
      "source": [
        "!wget https://d37ci6vzurychx.cloudfront.net/trip-data/green_tripdata_2021-02.parquet"
      ],
      "metadata": {
        "colab": {
          "base_uri": "https://localhost:8080/"
        },
        "id": "QbtcCMSxIcPF",
        "outputId": "efe66108-7711-4ad1-90ff-88eee8ebdc6b"
      },
      "execution_count": 11,
      "outputs": [
        {
          "output_type": "stream",
          "name": "stdout",
          "text": [
            "--2022-10-03 01:48:23--  https://d37ci6vzurychx.cloudfront.net/trip-data/green_tripdata_2021-02.parquet\n",
            "Resolving d37ci6vzurychx.cloudfront.net (d37ci6vzurychx.cloudfront.net)... 65.8.245.171, 65.8.245.178, 65.8.245.51, ...\n",
            "Connecting to d37ci6vzurychx.cloudfront.net (d37ci6vzurychx.cloudfront.net)|65.8.245.171|:443... connected.\n",
            "HTTP request sent, awaiting response... 200 OK\n",
            "Length: 1145679 (1.1M) [binary/octet-stream]\n",
            "Saving to: ‘green_tripdata_2021-02.parquet’\n",
            "\n",
            "green_tripdata_2021 100%[===================>]   1.09M  --.-KB/s    in 0.1s    \n",
            "\n",
            "2022-10-03 01:48:24 (7.43 MB/s) - ‘green_tripdata_2021-02.parquet’ saved [1145679/1145679]\n",
            "\n"
          ]
        }
      ]
    },
    {
      "cell_type": "code",
      "source": [
        "df_green = spark.read.parquet(\"green_tripdata_2021-02.parquet\")\n",
        "df_yellow = spark.read.parquet(\"yellow_tripdata_2021-02.parquet\")"
      ],
      "metadata": {
        "id": "ZJ1DHDYxUMfC"
      },
      "execution_count": 12,
      "outputs": []
    },
    {
      "cell_type": "code",
      "source": [
        "df_green.show()"
      ],
      "metadata": {
        "colab": {
          "base_uri": "https://localhost:8080/"
        },
        "id": "6XQ49TzOUgOZ",
        "outputId": "970a6304-ac42-4802-9253-2baaa5e05c40"
      },
      "execution_count": 13,
      "outputs": [
        {
          "output_type": "stream",
          "name": "stdout",
          "text": [
            "+--------+--------------------+---------------------+------------------+----------+------------+------------+---------------+-------------+-----------+-----+-------+----------+------------+---------+---------------------+------------+------------+---------+--------------------+\n",
            "|VendorID|lpep_pickup_datetime|lpep_dropoff_datetime|store_and_fwd_flag|RatecodeID|PULocationID|DOLocationID|passenger_count|trip_distance|fare_amount|extra|mta_tax|tip_amount|tolls_amount|ehail_fee|improvement_surcharge|total_amount|payment_type|trip_type|congestion_surcharge|\n",
            "+--------+--------------------+---------------------+------------------+----------+------------+------------+---------------+-------------+-----------+-----+-------+----------+------------+---------+---------------------+------------+------------+---------+--------------------+\n",
            "|       2| 2021-02-01 00:34:03|  2021-02-01 00:51:58|                 N|       1.0|         130|         205|            5.0|         3.66|       14.0|  0.5|    0.5|      10.0|         0.0|     null|                  0.3|        25.3|         1.0|      1.0|                 0.0|\n",
            "|       2| 2021-02-01 00:04:00|  2021-02-01 00:10:30|                 N|       1.0|         152|         244|            1.0|          1.1|        6.5|  0.5|    0.5|       0.0|         0.0|     null|                  0.3|         7.8|         2.0|      1.0|                 0.0|\n",
            "|       2| 2021-02-01 00:18:51|  2021-02-01 00:34:06|                 N|       1.0|         152|          48|            1.0|         4.93|       16.5|  0.5|    0.5|       0.0|         0.0|     null|                  0.3|       20.55|         2.0|      1.0|                2.75|\n",
            "|       2| 2021-02-01 00:53:27|  2021-02-01 01:11:41|                 N|       1.0|         152|         241|            1.0|          6.7|       21.0|  0.5|    0.5|       0.0|         0.0|     null|                  0.3|        22.3|         2.0|      1.0|                 0.0|\n",
            "|       2| 2021-02-01 00:57:46|  2021-02-01 01:06:44|                 N|       1.0|          75|          42|            1.0|         1.89|        8.5|  0.5|    0.5|      2.45|         0.0|     null|                  0.3|       12.25|         1.0|      1.0|                 0.0|\n",
            "|       2| 2021-02-01 00:33:03|  2021-02-01 00:40:54|                 N|       5.0|         197|         219|            1.0|          3.3|       15.0|  0.0|    0.0|      0.76|         0.0|     null|                  0.3|       16.06|         1.0|      2.0|                 0.0|\n",
            "|       2| 2021-02-01 00:18:43|  2021-02-01 00:28:25|                 N|       1.0|          82|         223|            1.0|         2.51|       10.0|  0.5|    0.5|       1.5|         0.0|     null|                  0.3|        12.8|         1.0|      1.0|                 0.0|\n",
            "|       2| 2021-02-01 00:06:50|  2021-02-01 00:18:07|                 N|       1.0|         130|         130|            1.0|         1.68|        9.0|  0.5|    0.5|      5.08|         0.0|     null|                  0.3|       15.38|         1.0|      1.0|                 0.0|\n",
            "|       2| 2021-02-01 01:25:20|  2021-02-01 01:34:04|                 N|       1.0|          94|         241|            1.0|         1.44|        7.5|  0.5|    0.5|       0.0|         0.0|     null|                  0.3|         8.8|         2.0|      1.0|                 0.0|\n",
            "|       2| 2021-02-01 02:56:55|  2021-02-01 02:58:38|                 N|       5.0|          78|          78|            1.0|          0.0|       24.0|  0.0|    0.0|       0.0|         0.0|     null|                  0.3|        24.3|         2.0|      2.0|                 0.0|\n",
            "|       2| 2021-02-01 02:53:46|  2021-02-01 03:05:34|                 N|       1.0|         181|         195|            1.0|          1.9|        9.0|  0.5|    0.5|       0.0|         0.0|     null|                  0.3|        10.3|         2.0|      1.0|                 0.0|\n",
            "|       2| 2021-02-01 02:34:48|  2021-02-01 02:44:34|                 N|       1.0|         127|         241|            1.0|          1.9|        9.5|  0.5|    0.5|       0.0|         0.0|     null|                  0.3|        10.8|         1.0|      1.0|                 0.0|\n",
            "|       2| 2021-02-01 02:32:28|  2021-02-01 02:42:36|                 N|       1.0|          75|         238|            1.0|         1.73|        8.5|  0.5|    0.5|       0.0|         0.0|     null|                  0.3|       12.55|         2.0|      1.0|                2.75|\n",
            "|       2| 2021-02-01 03:40:41|  2021-02-01 03:44:49|                 N|       1.0|         152|         116|            2.0|         0.94|        5.5|  0.5|    0.5|       0.0|         0.0|     null|                  0.3|         6.8|         2.0|      1.0|                 0.0|\n",
            "|       2| 2021-02-01 03:58:34|  2021-02-01 04:06:28|                 N|       1.0|         244|         235|            1.0|         3.24|       11.0|  0.5|    0.5|       0.0|         0.0|     null|                  0.3|        12.3|         2.0|      1.0|                 0.0|\n",
            "|       2| 2021-02-01 04:46:50|  2021-02-01 04:55:50|                 N|       1.0|         244|         247|            1.0|         1.67|        8.5|  0.5|    0.5|       0.0|         0.0|     null|                  0.3|         9.8|         2.0|      1.0|                 0.0|\n",
            "|       2| 2021-02-01 04:59:12|  2021-02-01 05:05:25|                 N|       1.0|         169|         119|            1.0|          1.2|        6.5|  0.5|    0.5|       0.0|         0.0|     null|                  0.3|         7.8|         2.0|      1.0|                 0.0|\n",
            "|       2| 2021-02-01 03:59:27|  2021-02-01 03:59:34|                 N|       5.0|         136|         136|            1.0|         0.19|       10.0|  0.0|    0.0|       0.3|         0.0|     null|                  0.3|        10.6|         1.0|      2.0|                 0.0|\n",
            "|       2| 2021-02-01 04:09:11|  2021-02-01 04:09:15|                 N|       5.0|         116|         116|            2.0|          0.0|        7.0|  0.0|    0.0|       0.0|         0.0|     null|                  0.3|         7.3|         2.0|      2.0|                 0.0|\n",
            "|       2| 2021-02-01 05:11:56|  2021-02-01 05:17:39|                 N|       1.0|         119|         243|            1.0|         0.93|        6.0|  0.5|    0.5|       0.0|         0.0|     null|                  0.3|         7.3|         2.0|      1.0|                 0.0|\n",
            "+--------+--------------------+---------------------+------------------+----------+------------+------------+---------------+-------------+-----------+-----+-------+----------+------------+---------+---------------------+------------+------------+---------+--------------------+\n",
            "only showing top 20 rows\n",
            "\n"
          ]
        }
      ]
    },
    {
      "cell_type": "code",
      "source": [
        "df_yellow.show()"
      ],
      "metadata": {
        "colab": {
          "base_uri": "https://localhost:8080/"
        },
        "id": "iOcJJ5w1UynY",
        "outputId": "b6d3a5ce-a01f-4f06-9125-edff0fd219c1"
      },
      "execution_count": 14,
      "outputs": [
        {
          "output_type": "stream",
          "name": "stdout",
          "text": [
            "+--------+--------------------+---------------------+---------------+-------------+----------+------------------+------------+------------+------------+-----------+-----+-------+----------+------------+---------------------+------------+--------------------+-----------+\n",
            "|VendorID|tpep_pickup_datetime|tpep_dropoff_datetime|passenger_count|trip_distance|RatecodeID|store_and_fwd_flag|PULocationID|DOLocationID|payment_type|fare_amount|extra|mta_tax|tip_amount|tolls_amount|improvement_surcharge|total_amount|congestion_surcharge|airport_fee|\n",
            "+--------+--------------------+---------------------+---------------+-------------+----------+------------------+------------+------------+------------+-----------+-----+-------+----------+------------+---------------------+------------+--------------------+-----------+\n",
            "|       1| 2021-02-01 00:40:47|  2021-02-01 00:48:28|            1.0|          2.3|       1.0|                 N|         141|         226|           2|        8.5|  3.0|    0.5|       0.0|         0.0|                  0.3|        12.3|                 2.5|       null|\n",
            "|       1| 2021-02-01 00:07:44|  2021-02-01 00:20:31|            1.0|          1.6|       1.0|                 N|          43|         263|           2|        9.5|  3.0|    0.5|       0.0|         0.0|                  0.3|        13.3|                 0.0|       null|\n",
            "|       1| 2021-02-01 00:59:36|  2021-02-01 01:24:13|            1.0|          5.3|       1.0|                 N|         114|         263|           2|       19.0|  3.0|    0.5|       0.0|         0.0|                  0.3|        22.8|                 2.5|       null|\n",
            "|       2| 2021-02-01 00:03:26|  2021-02-01 00:16:32|            1.0|         2.79|       1.0|                 N|         236|         229|           1|       11.0|  0.5|    0.5|      2.96|         0.0|                  0.3|       17.76|                 2.5|       null|\n",
            "|       2| 2021-02-01 00:20:20|  2021-02-01 00:24:03|            2.0|         0.64|       1.0|                 N|         229|         140|           1|        4.5|  0.5|    0.5|      1.66|         0.0|                  0.3|        9.96|                 2.5|       null|\n",
            "|       2| 2021-02-01 00:55:03|  2021-02-01 01:03:39|            1.0|         1.97|       1.0|                 N|         238|          75|           1|        8.5|  0.5|    0.5|      1.96|         0.0|                  0.3|       11.76|                 0.0|       null|\n",
            "|       1| 2021-02-01 00:09:22|  2021-02-01 00:53:48|            1.0|         26.6|       1.0|                 N|         132|         200|           1|       69.0|  0.5|    0.5|       0.0|        6.12|                  0.3|       76.42|                 0.0|       null|\n",
            "|       2| 2021-02-01 00:52:15|  2021-02-01 01:16:24|            4.0|         6.07|       1.0|                 N|         249|         181|           1|       21.0|  0.5|    0.5|       6.2|         0.0|                  0.3|        31.0|                 2.5|       null|\n",
            "|       1| 2021-02-01 00:08:29|  2021-02-01 00:21:22|            1.0|          2.0|       1.0|                 N|          79|         246|           1|        9.0|  3.0|    0.5|       3.2|         0.0|                  0.3|        16.0|                 2.5|       null|\n",
            "|       1| 2021-02-01 00:28:13|  2021-02-01 00:31:40|            1.0|          0.8|       1.0|                 Y|          75|          74|           2|        5.0|  0.5|    0.5|       0.0|         0.0|                  0.3|         6.3|                 0.0|       null|\n",
            "|       1| 2021-02-01 00:17:42|  2021-02-01 00:28:23|            1.0|          2.1|       1.0|                 N|          74|          24|           2|        9.0|  0.5|    0.5|       0.0|         0.0|                  0.3|        10.3|                 0.0|       null|\n",
            "|       1| 2021-02-01 00:25:10|  2021-02-01 00:25:38|            1.0|          0.0|       1.0|                 N|         113|         113|           4|        2.5|  3.0|    0.5|       0.0|         0.0|                  0.3|         6.3|                 2.5|       null|\n",
            "|       1| 2021-02-01 00:23:48|  2021-02-01 00:34:59|            1.0|          2.8|       1.0|                 N|          90|         229|           1|       11.0|  3.0|    0.5|       3.7|         0.0|                  0.3|        18.5|                 2.5|       null|\n",
            "|       2| 2021-02-01 00:18:31|  2021-02-01 00:46:45|            1.0|         8.08|       1.0|                 N|          75|          88|           1|       26.5|  0.5|    0.5|      6.06|         0.0|                  0.3|       36.36|                 2.5|       null|\n",
            "|       2| 2021-02-01 00:33:38|  2021-02-01 00:55:59|            2.0|         6.41|       1.0|                 N|         132|         122|           2|       21.0|  0.5|    0.5|       0.0|         0.0|                  0.3|        22.3|                 0.0|       null|\n",
            "|       2| 2021-02-01 00:34:13|  2021-02-01 00:42:13|            1.0|         1.53|       1.0|                 N|         170|          48|           2|        7.5|  0.5|    0.5|       0.0|         0.0|                  0.3|        11.3|                 2.5|       null|\n",
            "|       1| 2021-02-01 00:33:17|  2021-02-01 00:33:17|            1.0|          0.0|       5.0|                 Y|         260|         264|           2|        0.0|  0.0|    0.0|       0.0|         0.0|                  0.0|         0.0|                 0.0|       null|\n",
            "|       2| 2021-02-01 00:17:53|  2021-02-01 00:30:23|            1.0|         2.72|       1.0|                 N|         142|          90|           1|       11.0|  0.5|    0.5|      2.96|         0.0|                  0.3|       17.76|                 2.5|       null|\n",
            "|       2| 2021-02-01 00:38:17|  2021-02-01 00:46:53|            1.0|         1.72|       1.0|                 N|          68|         249|           1|        7.5|  0.5|    0.5|      2.26|         0.0|                  0.3|       13.56|                 2.5|       null|\n",
            "|       2| 2021-02-01 00:06:33|  2021-02-01 00:13:56|            1.0|         2.42|       1.0|                 N|          79|         256|           4|       -9.0| -0.5|   -0.5|       0.0|         0.0|                 -0.3|       -12.8|                -2.5|       null|\n",
            "+--------+--------------------+---------------------+---------------+-------------+----------+------------------+------------+------------+------------+-----------+-----+-------+----------+------------+---------------------+------------+--------------------+-----------+\n",
            "only showing top 20 rows\n",
            "\n"
          ]
        }
      ]
    },
    {
      "cell_type": "code",
      "source": [
        "df_green = df_green.withColumnRenamed('lpep_pickup_datetime', 'pickup_datetime').withColumnRenamed('lpep_dropoff_datetime', 'dropoff_datetime')\n",
        "df_yellow = df_yellow.withColumnRenamed('tpep_pickup_datetime', 'pickup_datetime').withColumnRenamed('tpep_dropoff_datetime', 'dropoff_datetime')"
      ],
      "metadata": {
        "id": "d0RsYQUVZGto"
      },
      "execution_count": 15,
      "outputs": []
    },
    {
      "cell_type": "code",
      "source": [
        "common_colums = []\n",
        "\n",
        "yellow_columns = set(df_yellow.columns)\n",
        "\n",
        "for col in df_green.columns:\n",
        "    if col in yellow_columns:\n",
        "        common_colums.append(col)"
      ],
      "metadata": {
        "id": "XR5iCyr1X7L4"
      },
      "execution_count": 16,
      "outputs": []
    },
    {
      "cell_type": "code",
      "source": [
        "common_colums"
      ],
      "metadata": {
        "colab": {
          "base_uri": "https://localhost:8080/"
        },
        "id": "DIOvvTOZY9uf",
        "outputId": "514005a1-fa34-470f-b533-7ded3e457f8f"
      },
      "execution_count": 17,
      "outputs": [
        {
          "output_type": "execute_result",
          "data": {
            "text/plain": [
              "['VendorID',\n",
              " 'pickup_datetime',\n",
              " 'dropoff_datetime',\n",
              " 'store_and_fwd_flag',\n",
              " 'RatecodeID',\n",
              " 'PULocationID',\n",
              " 'DOLocationID',\n",
              " 'passenger_count',\n",
              " 'trip_distance',\n",
              " 'fare_amount',\n",
              " 'extra',\n",
              " 'mta_tax',\n",
              " 'tip_amount',\n",
              " 'tolls_amount',\n",
              " 'improvement_surcharge',\n",
              " 'total_amount',\n",
              " 'payment_type',\n",
              " 'congestion_surcharge']"
            ]
          },
          "metadata": {},
          "execution_count": 17
        }
      ]
    },
    {
      "cell_type": "code",
      "source": [
        "from pyspark.sql import functions as F"
      ],
      "metadata": {
        "id": "_zwvjUf3X_yl"
      },
      "execution_count": 18,
      "outputs": []
    },
    {
      "cell_type": "code",
      "source": [
        "df_green_sel = df_green.select(common_colums).withColumn('service_type', F.lit('green'))"
      ],
      "metadata": {
        "id": "Hwtn2IJfU1Zs"
      },
      "execution_count": 19,
      "outputs": []
    },
    {
      "cell_type": "code",
      "source": [
        "df_yellow_sel = df_yellow.select(common_colums).withColumn('service_type', F.lit('yellow'))"
      ],
      "metadata": {
        "id": "eOBVs79VYFQ3"
      },
      "execution_count": 20,
      "outputs": []
    },
    {
      "cell_type": "code",
      "source": [
        "df_join = df_green_sel.unionAll(df_yellow_sel)"
      ],
      "metadata": {
        "id": "6fapC3wqYKnv"
      },
      "execution_count": 21,
      "outputs": []
    },
    {
      "cell_type": "code",
      "source": [
        "df_join.show()"
      ],
      "metadata": {
        "colab": {
          "base_uri": "https://localhost:8080/"
        },
        "id": "dzLpkiRwYYlm",
        "outputId": "ad273abd-08eb-4b02-bb62-ef537107c86a"
      },
      "execution_count": 22,
      "outputs": [
        {
          "output_type": "stream",
          "name": "stdout",
          "text": [
            "+--------+-------------------+-------------------+------------------+----------+------------+------------+---------------+-------------+-----------+-----+-------+----------+------------+---------------------+------------+------------+--------------------+------------+\n",
            "|VendorID|    pickup_datetime|   dropoff_datetime|store_and_fwd_flag|RatecodeID|PULocationID|DOLocationID|passenger_count|trip_distance|fare_amount|extra|mta_tax|tip_amount|tolls_amount|improvement_surcharge|total_amount|payment_type|congestion_surcharge|service_type|\n",
            "+--------+-------------------+-------------------+------------------+----------+------------+------------+---------------+-------------+-----------+-----+-------+----------+------------+---------------------+------------+------------+--------------------+------------+\n",
            "|       2|2021-02-01 00:34:03|2021-02-01 00:51:58|                 N|       1.0|         130|         205|            5.0|         3.66|       14.0|  0.5|    0.5|      10.0|         0.0|                  0.3|        25.3|         1.0|                 0.0|       green|\n",
            "|       2|2021-02-01 00:04:00|2021-02-01 00:10:30|                 N|       1.0|         152|         244|            1.0|          1.1|        6.5|  0.5|    0.5|       0.0|         0.0|                  0.3|         7.8|         2.0|                 0.0|       green|\n",
            "|       2|2021-02-01 00:18:51|2021-02-01 00:34:06|                 N|       1.0|         152|          48|            1.0|         4.93|       16.5|  0.5|    0.5|       0.0|         0.0|                  0.3|       20.55|         2.0|                2.75|       green|\n",
            "|       2|2021-02-01 00:53:27|2021-02-01 01:11:41|                 N|       1.0|         152|         241|            1.0|          6.7|       21.0|  0.5|    0.5|       0.0|         0.0|                  0.3|        22.3|         2.0|                 0.0|       green|\n",
            "|       2|2021-02-01 00:57:46|2021-02-01 01:06:44|                 N|       1.0|          75|          42|            1.0|         1.89|        8.5|  0.5|    0.5|      2.45|         0.0|                  0.3|       12.25|         1.0|                 0.0|       green|\n",
            "|       2|2021-02-01 00:33:03|2021-02-01 00:40:54|                 N|       5.0|         197|         219|            1.0|          3.3|       15.0|  0.0|    0.0|      0.76|         0.0|                  0.3|       16.06|         1.0|                 0.0|       green|\n",
            "|       2|2021-02-01 00:18:43|2021-02-01 00:28:25|                 N|       1.0|          82|         223|            1.0|         2.51|       10.0|  0.5|    0.5|       1.5|         0.0|                  0.3|        12.8|         1.0|                 0.0|       green|\n",
            "|       2|2021-02-01 00:06:50|2021-02-01 00:18:07|                 N|       1.0|         130|         130|            1.0|         1.68|        9.0|  0.5|    0.5|      5.08|         0.0|                  0.3|       15.38|         1.0|                 0.0|       green|\n",
            "|       2|2021-02-01 01:25:20|2021-02-01 01:34:04|                 N|       1.0|          94|         241|            1.0|         1.44|        7.5|  0.5|    0.5|       0.0|         0.0|                  0.3|         8.8|         2.0|                 0.0|       green|\n",
            "|       2|2021-02-01 02:56:55|2021-02-01 02:58:38|                 N|       5.0|          78|          78|            1.0|          0.0|       24.0|  0.0|    0.0|       0.0|         0.0|                  0.3|        24.3|         2.0|                 0.0|       green|\n",
            "|       2|2021-02-01 02:53:46|2021-02-01 03:05:34|                 N|       1.0|         181|         195|            1.0|          1.9|        9.0|  0.5|    0.5|       0.0|         0.0|                  0.3|        10.3|         2.0|                 0.0|       green|\n",
            "|       2|2021-02-01 02:34:48|2021-02-01 02:44:34|                 N|       1.0|         127|         241|            1.0|          1.9|        9.5|  0.5|    0.5|       0.0|         0.0|                  0.3|        10.8|         1.0|                 0.0|       green|\n",
            "|       2|2021-02-01 02:32:28|2021-02-01 02:42:36|                 N|       1.0|          75|         238|            1.0|         1.73|        8.5|  0.5|    0.5|       0.0|         0.0|                  0.3|       12.55|         2.0|                2.75|       green|\n",
            "|       2|2021-02-01 03:40:41|2021-02-01 03:44:49|                 N|       1.0|         152|         116|            2.0|         0.94|        5.5|  0.5|    0.5|       0.0|         0.0|                  0.3|         6.8|         2.0|                 0.0|       green|\n",
            "|       2|2021-02-01 03:58:34|2021-02-01 04:06:28|                 N|       1.0|         244|         235|            1.0|         3.24|       11.0|  0.5|    0.5|       0.0|         0.0|                  0.3|        12.3|         2.0|                 0.0|       green|\n",
            "|       2|2021-02-01 04:46:50|2021-02-01 04:55:50|                 N|       1.0|         244|         247|            1.0|         1.67|        8.5|  0.5|    0.5|       0.0|         0.0|                  0.3|         9.8|         2.0|                 0.0|       green|\n",
            "|       2|2021-02-01 04:59:12|2021-02-01 05:05:25|                 N|       1.0|         169|         119|            1.0|          1.2|        6.5|  0.5|    0.5|       0.0|         0.0|                  0.3|         7.8|         2.0|                 0.0|       green|\n",
            "|       2|2021-02-01 03:59:27|2021-02-01 03:59:34|                 N|       5.0|         136|         136|            1.0|         0.19|       10.0|  0.0|    0.0|       0.3|         0.0|                  0.3|        10.6|         1.0|                 0.0|       green|\n",
            "|       2|2021-02-01 04:09:11|2021-02-01 04:09:15|                 N|       5.0|         116|         116|            2.0|          0.0|        7.0|  0.0|    0.0|       0.0|         0.0|                  0.3|         7.3|         2.0|                 0.0|       green|\n",
            "|       2|2021-02-01 05:11:56|2021-02-01 05:17:39|                 N|       1.0|         119|         243|            1.0|         0.93|        6.0|  0.5|    0.5|       0.0|         0.0|                  0.3|         7.3|         2.0|                 0.0|       green|\n",
            "+--------+-------------------+-------------------+------------------+----------+------------+------------+---------------+-------------+-----------+-----+-------+----------+------------+---------------------+------------+------------+--------------------+------------+\n",
            "only showing top 20 rows\n",
            "\n"
          ]
        }
      ]
    },
    {
      "cell_type": "code",
      "source": [
        "!wget https://d37ci6vzurychx.cloudfront.net/trip-data/fhv_tripdata_2021-02.parquet "
      ],
      "metadata": {
        "colab": {
          "base_uri": "https://localhost:8080/"
        },
        "id": "BGnA0jHtqVgp",
        "outputId": "862709a8-d589-4407-ed79-989d2a4d2b28"
      },
      "execution_count": 23,
      "outputs": [
        {
          "output_type": "stream",
          "name": "stdout",
          "text": [
            "--2022-10-03 01:48:37--  https://d37ci6vzurychx.cloudfront.net/trip-data/fhv_tripdata_2021-02.parquet\n",
            "Resolving d37ci6vzurychx.cloudfront.net (d37ci6vzurychx.cloudfront.net)... 65.8.245.171, 65.8.245.178, 65.8.245.51, ...\n",
            "Connecting to d37ci6vzurychx.cloudfront.net (d37ci6vzurychx.cloudfront.net)|65.8.245.171|:443... connected.\n",
            "HTTP request sent, awaiting response... 200 OK\n",
            "Length: 10645466 (10M) [binary/octet-stream]\n",
            "Saving to: ‘fhv_tripdata_2021-02.parquet’\n",
            "\n",
            "fhv_tripdata_2021-0 100%[===================>]  10.15M  42.0MB/s    in 0.2s    \n",
            "\n",
            "2022-10-03 01:48:38 (42.0 MB/s) - ‘fhv_tripdata_2021-02.parquet’ saved [10645466/10645466]\n",
            "\n"
          ]
        }
      ]
    },
    {
      "cell_type": "code",
      "source": [
        "df_fhv = spark.read.parquet(\"fhv_tripdata_2021-02.parquet\")"
      ],
      "metadata": {
        "id": "OGeES99roDDj"
      },
      "execution_count": 24,
      "outputs": []
    },
    {
      "cell_type": "code",
      "source": [
        "df_fhv.show()"
      ],
      "metadata": {
        "colab": {
          "base_uri": "https://localhost:8080/"
        },
        "id": "H9gUCnRdoKvN",
        "outputId": "7f0a4ac3-6e3e-4bb4-ec1c-c3a220e47a9f"
      },
      "execution_count": 25,
      "outputs": [
        {
          "output_type": "stream",
          "name": "stdout",
          "text": [
            "+--------------------+-------------------+-------------------+------------+------------+-------+----------------------+\n",
            "|dispatching_base_num|    pickup_datetime|   dropOff_datetime|PUlocationID|DOlocationID|SR_Flag|Affiliated_base_number|\n",
            "+--------------------+-------------------+-------------------+------------+------------+-------+----------------------+\n",
            "|              B00013|2021-02-01 00:01:00|2021-02-01 01:33:00|        null|        null|   null|                B00014|\n",
            "|     B00021         |2021-02-01 00:55:40|2021-02-01 01:06:20|       173.0|        82.0|   null|       B00021         |\n",
            "|     B00021         |2021-02-01 00:14:03|2021-02-01 00:28:37|       173.0|        56.0|   null|       B00021         |\n",
            "|     B00021         |2021-02-01 00:27:48|2021-02-01 00:35:45|        82.0|       129.0|   null|       B00021         |\n",
            "|              B00037|2021-02-01 00:12:50|2021-02-01 00:26:38|        null|       225.0|   null|                B00037|\n",
            "|              B00037|2021-02-01 00:00:37|2021-02-01 00:09:35|        null|        61.0|   null|                B00037|\n",
            "|              B00112|2021-02-01 00:30:25|2021-02-01 00:57:23|        null|        26.0|   null|                B00112|\n",
            "|              B00149|2021-02-01 00:43:16|2021-02-01 01:03:16|        null|        72.0|   null|                B00149|\n",
            "|              B00221|2021-02-01 00:20:45|2021-02-01 00:21:15|        null|       244.0|   null|                B00221|\n",
            "|              B00225|2021-02-01 00:23:27|2021-02-01 00:55:46|        null|       169.0|   null|                B00225|\n",
            "|              B00225|2021-02-01 00:10:38|2021-02-01 00:50:15|        null|       161.0|   null|                B02872|\n",
            "|              B00254|2021-02-01 00:05:46|2021-02-01 00:40:41|        13.0|       182.0|   null|                B00254|\n",
            "|              B00254|2021-02-01 00:14:25|2021-02-01 00:24:56|       152.0|       244.0|   null|                B02872|\n",
            "|              B00256|2021-02-01 00:30:43|2021-02-01 01:32:39|        null|        null|   null|                B00256|\n",
            "|              B00256|2021-02-01 00:39:11|2021-02-01 01:18:44|        null|        null|   null|                B00256|\n",
            "|              B00256|2021-02-01 00:33:24|2021-02-01 01:23:44|        null|        null|   null|                B00256|\n",
            "|              B00256|2021-02-01 00:05:19|2021-02-01 00:24:40|        null|        null|   null|                B00256|\n",
            "|              B00271|2021-02-01 00:04:07|2021-02-01 01:03:03|        null|       265.0|   null|                B00271|\n",
            "|              B00271|2021-02-01 00:07:13|2021-02-01 00:08:49|        null|       237.0|   null|                B00271|\n",
            "|              B00310|2021-02-01 00:11:21|2021-02-01 00:15:44|        null|       248.0|   null|                B00310|\n",
            "+--------------------+-------------------+-------------------+------------+------------+-------+----------------------+\n",
            "only showing top 20 rows\n",
            "\n"
          ]
        }
      ]
    },
    {
      "cell_type": "markdown",
      "source": [
        "# How many taxi trips were there on February 15?"
      ],
      "metadata": {
        "id": "autEVNQTYPJU"
      }
    },
    {
      "cell_type": "code",
      "source": [
        "df_join"
      ],
      "metadata": {
        "colab": {
          "base_uri": "https://localhost:8080/"
        },
        "id": "Phl4QmJpYniI",
        "outputId": "d4ee1858-f018-487a-db16-b85854752acc"
      },
      "execution_count": 26,
      "outputs": [
        {
          "output_type": "execute_result",
          "data": {
            "text/plain": [
              "DataFrame[VendorID: bigint, pickup_datetime: timestamp, dropoff_datetime: timestamp, store_and_fwd_flag: string, RatecodeID: double, PULocationID: bigint, DOLocationID: bigint, passenger_count: double, trip_distance: double, fare_amount: double, extra: double, mta_tax: double, tip_amount: double, tolls_amount: double, improvement_surcharge: double, total_amount: double, payment_type: double, congestion_surcharge: double, service_type: string]"
            ]
          },
          "metadata": {},
          "execution_count": 26
        }
      ]
    },
    {
      "cell_type": "code",
      "source": [
        "df_1 = df_join.withColumn('pickup_datetime',F.to_date(df_join.pickup_datetime)).filter((df_join['pickup_datetime']>='2021-02-15')&(df_join['pickup_datetime']<'2021-02-16')).select('pickup_datetime').groupBy('pickup_datetime').count()"
      ],
      "metadata": {
        "id": "h90wC77Za7Gd"
      },
      "execution_count": 27,
      "outputs": []
    },
    {
      "cell_type": "code",
      "source": [
        "df_1.show()"
      ],
      "metadata": {
        "colab": {
          "base_uri": "https://localhost:8080/"
        },
        "id": "714GrX2gt635",
        "outputId": "c2ea2e5b-76ac-497c-9348-54772f8b11a2"
      },
      "execution_count": 28,
      "outputs": [
        {
          "output_type": "stream",
          "name": "stdout",
          "text": [
            "+---------------+-----+\n",
            "|pickup_datetime|count|\n",
            "+---------------+-----+\n",
            "|     2021-02-15|42100|\n",
            "+---------------+-----+\n",
            "\n"
          ]
        }
      ]
    },
    {
      "cell_type": "markdown",
      "source": [
        "taxi trips on February 15 is 42100"
      ],
      "metadata": {
        "id": "hShy74rkdsTd"
      }
    },
    {
      "cell_type": "markdown",
      "source": [
        "# Find the longest trip for each day ?"
      ],
      "metadata": {
        "id": "K0P7crq5d6Dd"
      }
    },
    {
      "cell_type": "code",
      "source": [
        "df_2 = df_join.withColumn('pickup_datetime',F.to_date(df_join.pickup_datetime)).select('pickup_datetime','trip_distance').filter(df_join['pickup_datetime']>='2021-02-01').groupBy('pickup_datetime').max('trip_distance').sort('pickup_datetime')"
      ],
      "metadata": {
        "id": "7aYytDuueS5c"
      },
      "execution_count": 35,
      "outputs": []
    },
    {
      "cell_type": "code",
      "source": [
        "df_2.show()"
      ],
      "metadata": {
        "colab": {
          "base_uri": "https://localhost:8080/"
        },
        "id": "iqZbEiKFGp-B",
        "outputId": "57240ee5-682a-432e-b6c6-3ad4662d3d3e"
      },
      "execution_count": 36,
      "outputs": [
        {
          "output_type": "stream",
          "name": "stdout",
          "text": [
            "+---------------+------------------+\n",
            "|pickup_datetime|max(trip_distance)|\n",
            "+---------------+------------------+\n",
            "|     2021-02-01|             38.89|\n",
            "|     2021-02-02|             73.24|\n",
            "|     2021-02-03|         186079.73|\n",
            "|     2021-02-04|             82.19|\n",
            "|     2021-02-05|          91134.16|\n",
            "|     2021-02-06|              43.5|\n",
            "|     2021-02-07|         186510.67|\n",
            "|     2021-02-08|         186617.92|\n",
            "|     2021-02-09|           60382.7|\n",
            "|     2021-02-10|           60382.7|\n",
            "|     2021-02-11|          43174.56|\n",
            "|     2021-02-12|          66659.27|\n",
            "|     2021-02-13|         115928.92|\n",
            "|     2021-02-14|             58.03|\n",
            "|     2021-02-15|             52.89|\n",
            "|     2021-02-16|         221188.25|\n",
            "|     2021-02-17|         140145.44|\n",
            "|     2021-02-18|             75.81|\n",
            "|     2021-02-19|              70.4|\n",
            "|     2021-02-20|         188054.03|\n",
            "+---------------+------------------+\n",
            "only showing top 20 rows\n",
            "\n"
          ]
        }
      ]
    },
    {
      "cell_type": "markdown",
      "source": [
        "# Find Top 5 Most frequent `dispatching_base_num` ?"
      ],
      "metadata": {
        "id": "b4qFJNXEfAmj"
      }
    },
    {
      "cell_type": "code",
      "source": [
        "df_3 = df_fhv.groupBy(\"dispatching_base_num\").count().sort('count',ascending=False).limit(5)"
      ],
      "metadata": {
        "id": "Q8mjaH-If5yi"
      },
      "execution_count": 31,
      "outputs": []
    },
    {
      "cell_type": "code",
      "source": [
        "df_3.show()"
      ],
      "metadata": {
        "colab": {
          "base_uri": "https://localhost:8080/"
        },
        "id": "sA6C5v_wGuzp",
        "outputId": "b0891965-c76a-474e-f942-228a62bc422a"
      },
      "execution_count": 32,
      "outputs": [
        {
          "output_type": "stream",
          "name": "stdout",
          "text": [
            "+--------------------+-----+\n",
            "|dispatching_base_num|count|\n",
            "+--------------------+-----+\n",
            "|              B00856|35077|\n",
            "|              B01312|33089|\n",
            "|              B01145|31114|\n",
            "|              B02794|30397|\n",
            "|              B03016|29794|\n",
            "+--------------------+-----+\n",
            "\n"
          ]
        }
      ]
    },
    {
      "cell_type": "markdown",
      "source": [
        "# Find Top 5 Most common location pairs (PUlocationID and DOlocationID)"
      ],
      "metadata": {
        "id": "GTu0yXVKhzrd"
      }
    },
    {
      "cell_type": "code",
      "source": [
        "df_4 = df_fhv.filter('PUlocationID is not NULL AND DOlocationID is not NULL').groupBy(['PUlocationID','DOlocationID']).count().sort('count',ascending=False).limit(5)"
      ],
      "metadata": {
        "id": "2cByC5n3h5YK"
      },
      "execution_count": 33,
      "outputs": []
    },
    {
      "cell_type": "code",
      "source": [
        "df_4.show()"
      ],
      "metadata": {
        "id": "4lY8npt5tYCP",
        "colab": {
          "base_uri": "https://localhost:8080/"
        },
        "outputId": "afaa39fd-8da2-4210-bad7-ec6c5bc47c06"
      },
      "execution_count": 34,
      "outputs": [
        {
          "output_type": "stream",
          "name": "stdout",
          "text": [
            "+------------+------------+-----+\n",
            "|PUlocationID|DOlocationID|count|\n",
            "+------------+------------+-----+\n",
            "|       206.0|       206.0| 2374|\n",
            "|       221.0|       206.0| 2112|\n",
            "|       129.0|       129.0| 1902|\n",
            "|         7.0|         7.0| 1829|\n",
            "|       179.0|       179.0| 1736|\n",
            "+------------+------------+-----+\n",
            "\n"
          ]
        }
      ]
    },
    {
      "cell_type": "markdown",
      "source": [
        "# Write all of the result to BigQuery table (additional - point plus)"
      ],
      "metadata": {
        "id": "kOzCwGp5kacO"
      }
    },
    {
      "cell_type": "code",
      "source": [
        "df_1.write.format('bigquery').option('table','cleaver-1.taxi.answer_1').save()"
      ],
      "metadata": {
        "id": "NTc910UYHMQQ"
      },
      "execution_count": null,
      "outputs": []
    },
    {
      "cell_type": "code",
      "source": [
        "df_2.write.format('bigquery').option('table','cleaver-1.taxi.answer_2').save()"
      ],
      "metadata": {
        "id": "6oMqXvm8MzkT"
      },
      "execution_count": null,
      "outputs": []
    },
    {
      "cell_type": "code",
      "source": [
        "df_3.write.format('bigquery').option('table','cleaver-1.taxi.answer_3').save()"
      ],
      "metadata": {
        "id": "P9pDCA7wM1Xe"
      },
      "execution_count": null,
      "outputs": []
    },
    {
      "cell_type": "code",
      "source": [
        "df_4.write.format('bigquery').option('table','cleaver-1.taxi.answer_4').save()"
      ],
      "metadata": {
        "id": "4hDDJnyIM3H3"
      },
      "execution_count": null,
      "outputs": []
    }
  ]
}